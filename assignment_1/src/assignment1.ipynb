{
  "nbformat": 4,
  "nbformat_minor": 0,
  "metadata": {
    "colab": {
      "name": "assignment1.ipynb",
      "provenance": [],
      "collapsed_sections": []
    },
    "kernelspec": {
      "name": "python3",
      "display_name": "Python 3"
    },
    "language_info": {
      "name": "python"
    }
  },
  "cells": [
    {
      "cell_type": "code",
      "source": [
        "import csv    #this is to read the file\n",
        "from random import randint  # this is required to generate random integer values\n",
        "\n",
        "# reading the file\n",
        "with open('/content/drive/MyDrive/Assignment_1/data/spring-22-students.tsv','rt') as x:\n",
        "    file = csv.reader(x)\n",
        "    data = list(file)\n",
        "\n",
        "data.remove(data[0])  # removing the first row as it is a heading and not required in the team\n",
        "\n",
        "size = len(data) #counting the size of the list\n",
        "print (\"Total members in the list= %s\" % size) # printing total number of members for reference\n",
        "group_size = int(input(\"Pick the size of group \\n\")) # requesting user to select the size of each group\n",
        "\n",
        "count = 1      # Starting count from 1\n",
        "groupno = 1    # Assigning group numbers starting from 1\n",
        "if group_size >= size :\n",
        "     print('no need of making group everyone is in same group :1 \\n')\n",
        "     print('Group Number: 1')\n",
        "     for line in data:\n",
        "      print(line)\n",
        "if group_size < size :\n",
        "  for i in range(0, size):\n",
        "\n",
        "    if count > group_size:  # if this condition is true, we change the group and start counting again\n",
        "        count = 1\n",
        "        groupno += 1\n",
        "        \n",
        "    if count == 1: # For each new group printing the group number\n",
        "        print('Group Number: %d' % (groupno))\n",
        "            \n",
        "    randVal = randint(0,len(data)-1)  # picking up random row/data from the list\n",
        "    print(data[randVal])              # printing the data\n",
        "    data.remove(data[randVal])        # removing the data that is printed\n",
        "    \n",
        "    #if len(data) >= group_size-1:  # if there are not enough members to form a group we add them to the last group \n",
        "    count += 1"
      ],
      "metadata": {
        "colab": {
          "base_uri": "https://localhost:8080/"
        },
        "id": "4YwG3JrVVonY",
        "outputId": "02dc2477-3529-4954-81f6-98250405e274"
      },
      "execution_count": 11,
      "outputs": [
        {
          "output_type": "stream",
          "name": "stdout",
          "text": [
            "Total members in the list= 45\n",
            "Pick the size of group \n",
            "5\n",
            "Group Number: 1\n",
            "['Sarkar', ' Reetika\\t8643242298665096034']\n",
            "['Killworth', ' Kyle\\t-8848445668263649238']\n",
            "['Reminisetty', ' Sai Naga Pavani\\t1591685606807352508']\n",
            "['Alavala', ' Kushal\\t7949742603085756203']\n",
            "['Nguyen', ' Anne\\t-1723188875694226164']\n",
            "Group Number: 2\n",
            "['Gonzalez', ' Franque\\t-730044730185823083']\n",
            "['Turmenne', ' Dominic\\t8125580341883296944']\n",
            "['Whitfield', ' Logan\\t-6061069211117658187']\n",
            "['Bonfield', ' Sage\\t-6504927969497061295']\n",
            "['Terrell', ' Jerry\\t-4455125766486173996']\n",
            "Group Number: 3\n",
            "['Nayal', ' Meghna\\t-3470105812940901766']\n",
            "['Hayes', ' Kevin\\t1339408132756941989']\n",
            "['Thummalapally', ' Akhil Reddy\\t-2176125765953617954']\n",
            "['Nayal', ' Yamini\\t9103315745626399993']\n",
            "['Veeramaneni', ' Varsha\\t-6644442737343541771']\n",
            "Group Number: 4\n",
            "['Edamadaka', ' Vamshi Krishna\\t892661543899331206']\n",
            "['Ganti', ' Vrinda Prabhakaram\\t6421234007558707556']\n",
            "['Aditham', ' Manideep\\t2748218694791991120']\n",
            "['Khant', ' Naitik Nilesh\\t-965756823075472977']\n",
            "['Tadikonda', ' Saipavan\\t869885833329840789']\n",
            "Group Number: 5\n",
            "['Serratos Prudencio', ' Francisco\\t-2462509233739110775']\n",
            "['Dey', ' Amitabha\\t-3886376931052097666']\n",
            "['Gabbula', ' Venkata Vijay Krishna\\t1151979053453793459']\n",
            "['Blankson', ' Daniel\\t-8968872549789180149']\n",
            "['Proctor', ' Alyiah\\t3671600931463625562']\n",
            "Group Number: 6\n",
            "['Littlejohn', ' Jesea\\t7203332082110553252']\n",
            "['Erram', ' Viveka\\t-1290993697682729798']\n",
            "['Kallem', ' Snehith\\t5525470488191116272']\n",
            "['Arasikere Rakesh', ' Raveena\\t2268593958250897116']\n",
            "['Vidapu', ' Aman Tej\\t-2035093325430431991']\n",
            "Group Number: 7\n",
            "['Chilakuri', ' Lahari\\t-1979813415920304142']\n",
            "['Luo', ' Jacky\\t6709415157623490936']\n",
            "['Budavi', ' Priyanka\\t8649594668534127648']\n",
            "['Konka', ' Sri Vyshnavi\\t9104511449264629905']\n",
            "['Gabbula', ' Sai Ram Ajay Krishna\\t8152531025298062743']\n",
            "Group Number: 8\n",
            "['Kasula', ' Sahaj\\t3920808829343271099']\n",
            "['Shah', ' Manish\\t-3589171692494337814']\n",
            "['Darandale', ' Aditi\\t7208842126573094853']\n",
            "['Yadav', ' Aryan\\t-4087399839370729222']\n",
            "['Carter', ' Jesse\\t-3206211230938166746']\n",
            "Group Number: 9\n",
            "['Bhimineni', ' Lokesh\\t362408483941604790']\n",
            "['Gadireddy', ' Pavithra\\t-8192697761711052655']\n",
            "['Nukala', ' Tanmayee\\t-1525574646263817008']\n",
            "['Gummadi', ' Venkat\\t5604102690916584116']\n",
            "['Bhatt', ' Pratik Ashish\\t-2970699835927101998']\n"
          ]
        }
      ]
    }
  ]
}