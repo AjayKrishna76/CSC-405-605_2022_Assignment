{
 "cells": [
  {
   "cell_type": "code",
   "execution_count": null,
   "metadata": {
    "colab": {
     "base_uri": "https://localhost:8080/"
    },
    "id": "4YwG3JrVVonY",
    "outputId": "02dc2477-3529-4954-81f6-98250405e274"
   },
   "outputs": [],
   "source": [
    "# importing the required packages\n",
    "import csv,random\n",
    "\n",
    "# reading the file\n",
    "with open('../data/spring-22-students.tsv','rt') as x:\n",
    "    file = csv.reader(x)\n",
    "    data = list(file)\n",
    "\n",
    "data.remove(data[0])  # removing the first row as it is a heading and not required in the team\n",
    "\n",
    "size = len(data) #counting the size of the list\n",
    "# printing total number of members for reference\n",
    "print (\"Total members in the list= %s\" % size) \n",
    "# requesting user to select the size of each group\n",
    "group_size = int(input(\"Pick the size of group \\n\")) \n",
    "\n",
    "count = 1      # Starting count from 1\n",
    "groupno = 1    # Assigning group numbers starting from 1\n",
    "if group_size >= size :\n",
    "     print('no need of making group everyone is in same group :1 \\n')\n",
    "     print('Group Number: 1')\n",
    "     for line in data:\n",
    "      print(line)\n",
    "if group_size < size :\n",
    "  for i in range(0, size):\n",
    "\n",
    "    if count > group_size:  # if this condition is true, we change the group and start counting again\n",
    "        count = 1\n",
    "        groupno += 1\n",
    "        \n",
    "    if count == 1: # For each new group printing the group number\n",
    "        print('Group Number: %d' % (groupno))\n",
    "            \n",
    "    randVal = randint(0,len(data)-1)  # picking up random row/data from the list\n",
    "    print(data[randVal])              # printing the data\n",
    "    data.remove(data[randVal])        # removing the data that is printed\n",
    "    \n",
    "    #if len(data) >= group_size-1:  # if there are not enough members to form a group we add them to the last group \n",
    "    count += 1"
   ]
  },
  {
   "cell_type": "code",
   "execution_count": null,
   "metadata": {},
   "outputs": [],
   "source": []
  }
 ],
 "metadata": {
  "colab": {
   "collapsed_sections": [],
   "name": "assignment1.ipynb",
   "provenance": []
  },
  "kernelspec": {
   "display_name": "Python 3 (ipykernel)",
   "language": "python",
   "name": "python3"
  },
  "language_info": {
   "codemirror_mode": {
    "name": "ipython",
    "version": 3
   },
   "file_extension": ".py",
   "mimetype": "text/x-python",
   "name": "python",
   "nbconvert_exporter": "python",
   "pygments_lexer": "ipython3",
   "version": "3.9.7"
  }
 },
 "nbformat": 4,
 "nbformat_minor": 1
}
